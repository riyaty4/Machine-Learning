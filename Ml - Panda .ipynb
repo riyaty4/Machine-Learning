{
 "cells": [
  {
   "cell_type": "code",
   "execution_count": 1,
   "metadata": {},
   "outputs": [],
   "source": [
    "import pandas as pd "
   ]
  },
  {
   "cell_type": "code",
   "execution_count": 2,
   "metadata": {},
   "outputs": [
    {
     "data": {
      "text/plain": [
       "0    1\n",
       "1    2\n",
       "2    3\n",
       "3    4\n",
       "4    5\n",
       "5    6\n",
       "dtype: int64"
      ]
     },
     "execution_count": 2,
     "metadata": {},
     "output_type": "execute_result"
    }
   ],
   "source": [
    "s1 = pd.Series([1,2,3,4,5,6])\n",
    "s1"
   ]
  },
  {
   "cell_type": "code",
   "execution_count": 6,
   "metadata": {},
   "outputs": [
    {
     "data": {
      "text/plain": [
       "pandas.core.series.Series"
      ]
     },
     "execution_count": 6,
     "metadata": {},
     "output_type": "execute_result"
    }
   ],
   "source": [
    "type(s1)"
   ]
  },
  {
   "cell_type": "code",
   "execution_count": 8,
   "metadata": {},
   "outputs": [
    {
     "data": {
      "text/plain": [
       "a    1\n",
       "b    2\n",
       "c    3\n",
       "d    4\n",
       "e    5\n",
       "f    6\n",
       "dtype: int64"
      ]
     },
     "execution_count": 8,
     "metadata": {},
     "output_type": "execute_result"
    }
   ],
   "source": [
    "s1 = pd.Series([1,2,3,4,5,6], index=['a','b','c','d','e','f'])\n",
    "s1"
   ]
  },
  {
   "cell_type": "code",
   "execution_count": 9,
   "metadata": {},
   "outputs": [
    {
     "data": {
      "text/plain": [
       "a    10\n",
       "b    20\n",
       "c    30\n",
       "d    40\n",
       "dtype: int64"
      ]
     },
     "execution_count": 9,
     "metadata": {},
     "output_type": "execute_result"
    }
   ],
   "source": [
    "pd.Series({'a':10, 'b':20, 'c':30, 'd':40})"
   ]
  },
  {
   "cell_type": "code",
   "execution_count": 10,
   "metadata": {},
   "outputs": [
    {
     "data": {
      "text/plain": [
       "e     NaN\n",
       "a    10.0\n",
       "b    20.0\n",
       "c    30.0\n",
       "dtype: float64"
      ]
     },
     "execution_count": 10,
     "metadata": {},
     "output_type": "execute_result"
    }
   ],
   "source": [
    "pd.Series({'a':10, 'b':20, 'c':30, 'd':40}, index=['e','a','b','c'])"
   ]
  },
  {
   "cell_type": "code",
   "execution_count": 12,
   "metadata": {},
   "outputs": [
    {
     "data": {
      "text/plain": [
       "4"
      ]
     },
     "execution_count": 12,
     "metadata": {},
     "output_type": "execute_result"
    }
   ],
   "source": [
    "s1 = pd.Series([1,2,3,4,5,6,7,8,9])\n",
    "s1[3]"
   ]
  },
  {
   "cell_type": "code",
   "execution_count": 13,
   "metadata": {},
   "outputs": [
    {
     "data": {
      "text/plain": [
       "6    7\n",
       "7    8\n",
       "8    9\n",
       "dtype: int64"
      ]
     },
     "execution_count": 13,
     "metadata": {},
     "output_type": "execute_result"
    }
   ],
   "source": [
    "s1 = pd.Series([1,2,3,4,5,6,7,8,9])\n",
    "s1[-3:]"
   ]
  },
  {
   "cell_type": "code",
   "execution_count": 14,
   "metadata": {},
   "outputs": [
    {
     "data": {
      "text/plain": [
       "0    1\n",
       "1    2\n",
       "2    3\n",
       "3    4\n",
       "4    5\n",
       "dtype: int64"
      ]
     },
     "execution_count": 14,
     "metadata": {},
     "output_type": "execute_result"
    }
   ],
   "source": [
    "s1 = pd.Series([1,2,3,4,5,6,7,8,9])\n",
    "s1[:5]"
   ]
  },
  {
   "cell_type": "code",
   "execution_count": 2,
   "metadata": {},
   "outputs": [
    {
     "ename": "NameError",
     "evalue": "name 'l1' is not defined",
     "output_type": "error",
     "traceback": [
      "\u001b[0;31m---------------------------------------------------------------------------\u001b[0m",
      "\u001b[0;31mNameError\u001b[0m                                 Traceback (most recent call last)",
      "\u001b[0;32m<ipython-input-2-e79eb4adf045>\u001b[0m in \u001b[0;36m<module>\u001b[0;34m\u001b[0m\n\u001b[0;32m----> 1\u001b[0;31m \u001b[0ms1\u001b[0m\u001b[0;34m=\u001b[0m\u001b[0mpd\u001b[0m\u001b[0;34m.\u001b[0m\u001b[0mSeries\u001b[0m\u001b[0;34m(\u001b[0m\u001b[0ml1\u001b[0m\u001b[0;34m)\u001b[0m\u001b[0;34m\u001b[0m\u001b[0;34m\u001b[0m\u001b[0m\n\u001b[0m",
      "\u001b[0;31mNameError\u001b[0m: name 'l1' is not defined"
     ]
    }
   ],
   "source": []
  },
  {
   "cell_type": "code",
   "execution_count": 3,
   "metadata": {},
   "outputs": [],
   "source": [
    "s1 = pd.Series([1,2,3,4,5,6,7,8,9])\n",
    "s2 = pd.Series([10,20,30,40,50,60,70,80,90])"
   ]
  },
  {
   "cell_type": "code",
   "execution_count": 4,
   "metadata": {},
   "outputs": [
    {
     "data": {
      "text/plain": [
       "0    11\n",
       "1    22\n",
       "2    33\n",
       "3    44\n",
       "4    55\n",
       "5    66\n",
       "6    77\n",
       "7    88\n",
       "8    99\n",
       "dtype: int64"
      ]
     },
     "execution_count": 4,
     "metadata": {},
     "output_type": "execute_result"
    }
   ],
   "source": [
    "s1+s2"
   ]
  },
  {
   "cell_type": "code",
   "execution_count": 5,
   "metadata": {},
   "outputs": [
    {
     "data": {
      "text/plain": [
       "0    11\n",
       "1    12\n",
       "2    13\n",
       "3    14\n",
       "4    15\n",
       "5    16\n",
       "6    17\n",
       "7    18\n",
       "8    19\n",
       "dtype: int64"
      ]
     },
     "execution_count": 5,
     "metadata": {},
     "output_type": "execute_result"
    }
   ],
   "source": [
    "s1 + 10"
   ]
  },
  {
   "cell_type": "code",
   "execution_count": 6,
   "metadata": {},
   "outputs": [
    {
     "data": {
      "text/plain": [
       "0   -99\n",
       "1   -98\n",
       "2   -97\n",
       "3   -96\n",
       "4   -95\n",
       "5   -94\n",
       "6   -93\n",
       "7   -92\n",
       "8   -91\n",
       "dtype: int64"
      ]
     },
     "execution_count": 6,
     "metadata": {},
     "output_type": "execute_result"
    }
   ],
   "source": [
    "s1 - 100"
   ]
  },
  {
   "cell_type": "code",
   "execution_count": 7,
   "metadata": {},
   "outputs": [
    {
     "data": {
      "text/plain": [
       "0     132\n",
       "1     264\n",
       "2     396\n",
       "3     528\n",
       "4     660\n",
       "5     792\n",
       "6     924\n",
       "7    1056\n",
       "8    1188\n",
       "dtype: int64"
      ]
     },
     "execution_count": 7,
     "metadata": {},
     "output_type": "execute_result"
    }
   ],
   "source": [
    "s1 * 132"
   ]
  },
  {
   "cell_type": "code",
   "execution_count": 8,
   "metadata": {},
   "outputs": [
    {
     "data": {
      "text/plain": [
       "0    11\n",
       "1    22\n",
       "2    33\n",
       "3    44\n",
       "4    55\n",
       "5    66\n",
       "6    77\n",
       "7    88\n",
       "8    99\n",
       "dtype: int64"
      ]
     },
     "execution_count": 8,
     "metadata": {},
     "output_type": "execute_result"
    }
   ],
   "source": [
    "s1 + s2"
   ]
  },
  {
   "cell_type": "code",
   "execution_count": 9,
   "metadata": {},
   "outputs": [
    {
     "data": {
      "text/plain": [
       "0    0.083333\n",
       "1    0.166667\n",
       "2    0.250000\n",
       "3    0.333333\n",
       "4    0.416667\n",
       "5    0.500000\n",
       "6    0.583333\n",
       "7    0.666667\n",
       "8    0.750000\n",
       "dtype: float64"
      ]
     },
     "execution_count": 9,
     "metadata": {},
     "output_type": "execute_result"
    }
   ],
   "source": [
    "s1 / 12"
   ]
  },
  {
   "cell_type": "code",
   "execution_count": 10,
   "metadata": {},
   "outputs": [
    {
     "data": {
      "text/plain": [
       "0    11\n",
       "1    22\n",
       "2    33\n",
       "3    44\n",
       "4    55\n",
       "5    66\n",
       "6    77\n",
       "7    88\n",
       "8    99\n",
       "dtype: int64"
      ]
     },
     "execution_count": 10,
     "metadata": {},
     "output_type": "execute_result"
    }
   ],
   "source": [
    "s1 + s2"
   ]
  },
  {
   "cell_type": "code",
   "execution_count": 13,
   "metadata": {},
   "outputs": [
    {
     "data": {
      "text/html": [
       "<div>\n",
       "<style scoped>\n",
       "    .dataframe tbody tr th:only-of-type {\n",
       "        vertical-align: middle;\n",
       "    }\n",
       "\n",
       "    .dataframe tbody tr th {\n",
       "        vertical-align: top;\n",
       "    }\n",
       "\n",
       "    .dataframe thead th {\n",
       "        text-align: right;\n",
       "    }\n",
       "</style>\n",
       "<table border=\"1\" class=\"dataframe\">\n",
       "  <thead>\n",
       "    <tr style=\"text-align: right;\">\n",
       "      <th></th>\n",
       "      <th>Name</th>\n",
       "      <th>Make</th>\n",
       "    </tr>\n",
       "  </thead>\n",
       "  <tbody>\n",
       "    <tr>\n",
       "      <th>0</th>\n",
       "      <td>Anne</td>\n",
       "      <td>75</td>\n",
       "    </tr>\n",
       "    <tr>\n",
       "      <th>1</th>\n",
       "      <td>Bob</td>\n",
       "      <td>12</td>\n",
       "    </tr>\n",
       "    <tr>\n",
       "      <th>2</th>\n",
       "      <td>Matt</td>\n",
       "      <td>28</td>\n",
       "    </tr>\n",
       "  </tbody>\n",
       "</table>\n",
       "</div>"
      ],
      "text/plain": [
       "   Name  Make\n",
       "0  Anne    75\n",
       "1   Bob    12\n",
       "2  Matt    28"
      ]
     },
     "execution_count": 13,
     "metadata": {},
     "output_type": "execute_result"
    }
   ],
   "source": [
    "pd.DataFrame({'Name':['Anne', 'Bob','Matt'], 'Make':[75,12,28]})"
   ]
  },
  {
   "cell_type": "code",
   "execution_count": 15,
   "metadata": {},
   "outputs": [],
   "source": [
    "oscp = pd.read_csv('Dataset/oscp.csv')"
   ]
  },
  {
   "cell_type": "code",
   "execution_count": 16,
   "metadata": {},
   "outputs": [
    {
     "data": {
      "text/html": [
       "<div>\n",
       "<style scoped>\n",
       "    .dataframe tbody tr th:only-of-type {\n",
       "        vertical-align: middle;\n",
       "    }\n",
       "\n",
       "    .dataframe tbody tr th {\n",
       "        vertical-align: top;\n",
       "    }\n",
       "\n",
       "    .dataframe thead th {\n",
       "        text-align: right;\n",
       "    }\n",
       "</style>\n",
       "<table border=\"1\" class=\"dataframe\">\n",
       "  <thead>\n",
       "    <tr style=\"text-align: right;\">\n",
       "      <th></th>\n",
       "      <th>Name</th>\n",
       "      <th>Email</th>\n",
       "      <th>Mobile no</th>\n",
       "      <th>LinkedIn URL</th>\n",
       "      <th>Github URL</th>\n",
       "      <th>Choose category</th>\n",
       "      <th>Tell as about your self ?</th>\n",
       "      <th>College Name</th>\n",
       "      <th>Submitted At</th>\n",
       "      <th>Token</th>\n",
       "    </tr>\n",
       "  </thead>\n",
       "  <tbody>\n",
       "    <tr>\n",
       "      <th>0</th>\n",
       "      <td>Praveen Kumar Purushothaman</td>\n",
       "      <td>praveenscience@gmail.com</td>\n",
       "      <td>447405708485</td>\n",
       "      <td>https://www.linkedin.com/in/praveentech/</td>\n",
       "      <td>https://github.com/praveenscience</td>\n",
       "      <td>Front-end Developer ( React.JS Knowleage)</td>\n",
       "      <td>Mentor (Careers, Personal, Full Stack Web Deve...</td>\n",
       "      <td>NaN</td>\n",
       "      <td>5/4/2020 13:32:41</td>\n",
       "      <td>dbml2zwkkiarnnqakt2nudbml2zr3mz2</td>\n",
       "    </tr>\n",
       "    <tr>\n",
       "      <th>1</th>\n",
       "      <td>Mrunal Kakirwar</td>\n",
       "      <td>mrunal.kakirwar@cumminscollege.edu.in</td>\n",
       "      <td>919637996865</td>\n",
       "      <td>https://www.linkedin.com/in/mrunal-kakirwar-24...</td>\n",
       "      <td>https://Mrunal.Kakirwar</td>\n",
       "      <td>Back-end Developer (  Node.JS , REST API ,Fire...</td>\n",
       "      <td>I am final year computer Engineering student</td>\n",
       "      <td>Cummins college of engineering for women</td>\n",
       "      <td>5/4/2020 13:38:49</td>\n",
       "      <td>y4438ees7r0u4bhy4n9pp8yf3qc328tn</td>\n",
       "    </tr>\n",
       "    <tr>\n",
       "      <th>2</th>\n",
       "      <td>Abhinavan Roy</td>\n",
       "      <td>abhinavan2772@gmail.com</td>\n",
       "      <td>919511840787</td>\n",
       "      <td>https://www.linkedin.com/in/abhinavan-roy</td>\n",
       "      <td>https://github.com/abhinavanRoy</td>\n",
       "      <td>Back-end Developer (  Node.JS , REST API ,Fire...</td>\n",
       "      <td>I am a tech enthusiast who loves to code and m...</td>\n",
       "      <td>SRM Institute of Science and Technology, Ramap...</td>\n",
       "      <td>5/4/2020 13:40:26</td>\n",
       "      <td>p3f231bn6yq98b8p3f2hr2id8kkem627</td>\n",
       "    </tr>\n",
       "    <tr>\n",
       "      <th>3</th>\n",
       "      <td>Pawan Singhla</td>\n",
       "      <td>pawansinghla300@gmail.com</td>\n",
       "      <td>917895848767</td>\n",
       "      <td>https://www.linkedin.com/in/pawansinghla300/</td>\n",
       "      <td>https://github.com/Pawansinghla</td>\n",
       "      <td>Front-end Developer ( React.JS Knowleage)</td>\n",
       "      <td>I am 3rd year Btech student at UIET Kurukshetra.</td>\n",
       "      <td>University Institute of Engineering &amp; Technolo...</td>\n",
       "      <td>5/4/2020 13:40:27</td>\n",
       "      <td>fm3nre9rr0f2upix6sy5ifm3nhjwx0xm</td>\n",
       "    </tr>\n",
       "    <tr>\n",
       "      <th>4</th>\n",
       "      <td>Katakam Nikhilesh</td>\n",
       "      <td>nikhileshkatakam1@gmail.com</td>\n",
       "      <td>918688163335</td>\n",
       "      <td>https://www.linkedin.com/in/nikhilesh-katakam-...</td>\n",
       "      <td>https://github.com/NikhileshKatakam</td>\n",
       "      <td>Back-end Developer (  Node.JS , REST API ,Fire...</td>\n",
       "      <td>I was pursuing cse 3rd year I love to learn an...</td>\n",
       "      <td>R.V.R &amp; J.C college of Engineering</td>\n",
       "      <td>5/4/2020 13:36:49</td>\n",
       "      <td>ka86br2y1lv056ka86bfik1pb649gk71</td>\n",
       "    </tr>\n",
       "  </tbody>\n",
       "</table>\n",
       "</div>"
      ],
      "text/plain": [
       "                         Name                                   Email  \\\n",
       "0  Praveen Kumar Purushothaman               praveenscience@gmail.com   \n",
       "1              Mrunal Kakirwar  mrunal.kakirwar@cumminscollege.edu.in   \n",
       "2                Abhinavan Roy                abhinavan2772@gmail.com   \n",
       "3                Pawan Singhla              pawansinghla300@gmail.com   \n",
       "4            Katakam Nikhilesh            nikhileshkatakam1@gmail.com   \n",
       "\n",
       "      Mobile no                                       LinkedIn URL  \\\n",
       "0  447405708485           https://www.linkedin.com/in/praveentech/   \n",
       "1  919637996865  https://www.linkedin.com/in/mrunal-kakirwar-24...   \n",
       "2  919511840787          https://www.linkedin.com/in/abhinavan-roy   \n",
       "3  917895848767       https://www.linkedin.com/in/pawansinghla300/   \n",
       "4  918688163335  https://www.linkedin.com/in/nikhilesh-katakam-...   \n",
       "\n",
       "                            Github URL  \\\n",
       "0    https://github.com/praveenscience   \n",
       "1              https://Mrunal.Kakirwar   \n",
       "2      https://github.com/abhinavanRoy   \n",
       "3      https://github.com/Pawansinghla   \n",
       "4  https://github.com/NikhileshKatakam   \n",
       "\n",
       "                                     Choose category  \\\n",
       "0          Front-end Developer ( React.JS Knowleage)   \n",
       "1  Back-end Developer (  Node.JS , REST API ,Fire...   \n",
       "2  Back-end Developer (  Node.JS , REST API ,Fire...   \n",
       "3          Front-end Developer ( React.JS Knowleage)   \n",
       "4  Back-end Developer (  Node.JS , REST API ,Fire...   \n",
       "\n",
       "                           Tell as about your self ?  \\\n",
       "0  Mentor (Careers, Personal, Full Stack Web Deve...   \n",
       "1       I am final year computer Engineering student   \n",
       "2  I am a tech enthusiast who loves to code and m...   \n",
       "3   I am 3rd year Btech student at UIET Kurukshetra.   \n",
       "4  I was pursuing cse 3rd year I love to learn an...   \n",
       "\n",
       "                                       College Name        Submitted At  \\\n",
       "0                                                NaN  5/4/2020 13:32:41   \n",
       "1           Cummins college of engineering for women  5/4/2020 13:38:49   \n",
       "2  SRM Institute of Science and Technology, Ramap...  5/4/2020 13:40:26   \n",
       "3  University Institute of Engineering & Technolo...  5/4/2020 13:40:27   \n",
       "4                 R.V.R & J.C college of Engineering  5/4/2020 13:36:49   \n",
       "\n",
       "                              Token  \n",
       "0  dbml2zwkkiarnnqakt2nudbml2zr3mz2  \n",
       "1  y4438ees7r0u4bhy4n9pp8yf3qc328tn  \n",
       "2  p3f231bn6yq98b8p3f2hr2id8kkem627  \n",
       "3  fm3nre9rr0f2upix6sy5ifm3nhjwx0xm  \n",
       "4  ka86br2y1lv056ka86bfik1pb649gk71  "
      ]
     },
     "execution_count": 16,
     "metadata": {},
     "output_type": "execute_result"
    }
   ],
   "source": [
    "oscp.head()"
   ]
  },
  {
   "cell_type": "code",
   "execution_count": 17,
   "metadata": {},
   "outputs": [
    {
     "data": {
      "text/html": [
       "<div>\n",
       "<style scoped>\n",
       "    .dataframe tbody tr th:only-of-type {\n",
       "        vertical-align: middle;\n",
       "    }\n",
       "\n",
       "    .dataframe tbody tr th {\n",
       "        vertical-align: top;\n",
       "    }\n",
       "\n",
       "    .dataframe thead th {\n",
       "        text-align: right;\n",
       "    }\n",
       "</style>\n",
       "<table border=\"1\" class=\"dataframe\">\n",
       "  <thead>\n",
       "    <tr style=\"text-align: right;\">\n",
       "      <th></th>\n",
       "      <th>Name</th>\n",
       "      <th>Email</th>\n",
       "      <th>Mobile no</th>\n",
       "      <th>LinkedIn URL</th>\n",
       "      <th>Github URL</th>\n",
       "      <th>Choose category</th>\n",
       "      <th>Tell as about your self ?</th>\n",
       "      <th>College Name</th>\n",
       "      <th>Submitted At</th>\n",
       "      <th>Token</th>\n",
       "    </tr>\n",
       "  </thead>\n",
       "  <tbody>\n",
       "    <tr>\n",
       "      <th>209</th>\n",
       "      <td>Yash patel</td>\n",
       "      <td>yashp2928@gmail.com</td>\n",
       "      <td>919768960189</td>\n",
       "      <td>https://www.linkedin.com/in/yash-patel-22546a191</td>\n",
       "      <td>https://github.com/ryuk156</td>\n",
       "      <td>Front-end Developer ( React.js, Vue.js, Next.j...</td>\n",
       "      <td>I'm Yash patel perusing b.sc computer  science...</td>\n",
       "      <td>Thakur college  of commerce and science</td>\n",
       "      <td>8/2/2020 8:43:12</td>\n",
       "      <td>njtro0t1itswrzns8mg9cclpnjtro0t1</td>\n",
       "    </tr>\n",
       "    <tr>\n",
       "      <th>210</th>\n",
       "      <td>Sparsh Sihotiya</td>\n",
       "      <td>sparshsihotiya@gmail.com</td>\n",
       "      <td>918529434655</td>\n",
       "      <td>https://www.linkedin.com/in/sparshs413</td>\n",
       "      <td>https://github.com/sparshs413</td>\n",
       "      <td>Front-end Developer ( React.js, Vue.js, Next.j...</td>\n",
       "      <td>I am a Second-Year undergraduate student at II...</td>\n",
       "      <td>IIT Kanpur</td>\n",
       "      <td>8/2/2020 9:05:30</td>\n",
       "      <td>5rb4g2nqaicr19a25rb4g2nour89tknl</td>\n",
       "    </tr>\n",
       "    <tr>\n",
       "      <th>211</th>\n",
       "      <td>Garima Singh</td>\n",
       "      <td>garingh128@gmail.com</td>\n",
       "      <td>918218152661</td>\n",
       "      <td>https://www.linkedin.com/in/garima-singh-34042...</td>\n",
       "      <td>https://github.com/garimasingh128</td>\n",
       "      <td>UI/UX Web Designer</td>\n",
       "      <td>I am Garima Singh. I consider myself as a smar...</td>\n",
       "      <td>NIT Patna</td>\n",
       "      <td>8/3/2020 22:42:59</td>\n",
       "      <td>zrmcpkwedh4m78kxg63zrmwc50dkjddr</td>\n",
       "    </tr>\n",
       "    <tr>\n",
       "      <th>212</th>\n",
       "      <td>Chand Bud</td>\n",
       "      <td>chandbud5@gmail.com</td>\n",
       "      <td>918758079341</td>\n",
       "      <td>https://www.linkedin.com/in/chandbud5</td>\n",
       "      <td>https://github.com/chandbud5</td>\n",
       "      <td>Back-end Developer (  Node.JS , REST API ,Fire...</td>\n",
       "      <td>I'm a Web developer and datascience enthusiast</td>\n",
       "      <td>Parul University</td>\n",
       "      <td>8/4/2020 9:08:00</td>\n",
       "      <td>4qyn3qvik0n62vmsyz4qyn3qvex8arbn</td>\n",
       "    </tr>\n",
       "    <tr>\n",
       "      <th>213</th>\n",
       "      <td>Salha Salman</td>\n",
       "      <td>salhasalman4@gmail.com</td>\n",
       "      <td>94778149339</td>\n",
       "      <td>https://www.linkedin.com/mwlite/in/salha-salma...</td>\n",
       "      <td>https://github.com/salhasalman</td>\n",
       "      <td>Back-end Developer (  Node.JS , REST API ,Fire...</td>\n",
       "      <td>I'm an undergraduate of University of Moratuwa</td>\n",
       "      <td>University of Moratuwa</td>\n",
       "      <td>8/4/2020 13:43:59</td>\n",
       "      <td>a03wsxbp8vi8yx2cdqa03wsi8vhy66ca</td>\n",
       "    </tr>\n",
       "  </tbody>\n",
       "</table>\n",
       "</div>"
      ],
      "text/plain": [
       "               Name                      Email     Mobile no  \\\n",
       "209       Yash patel       yashp2928@gmail.com  919768960189   \n",
       "210  Sparsh Sihotiya  sparshsihotiya@gmail.com  918529434655   \n",
       "211     Garima Singh      garingh128@gmail.com  918218152661   \n",
       "212        Chand Bud       chandbud5@gmail.com  918758079341   \n",
       "213     Salha Salman    salhasalman4@gmail.com   94778149339   \n",
       "\n",
       "                                          LinkedIn URL  \\\n",
       "209   https://www.linkedin.com/in/yash-patel-22546a191   \n",
       "210             https://www.linkedin.com/in/sparshs413   \n",
       "211  https://www.linkedin.com/in/garima-singh-34042...   \n",
       "212              https://www.linkedin.com/in/chandbud5   \n",
       "213  https://www.linkedin.com/mwlite/in/salha-salma...   \n",
       "\n",
       "                            Github URL  \\\n",
       "209         https://github.com/ryuk156   \n",
       "210      https://github.com/sparshs413   \n",
       "211  https://github.com/garimasingh128   \n",
       "212       https://github.com/chandbud5   \n",
       "213     https://github.com/salhasalman   \n",
       "\n",
       "                                       Choose category  \\\n",
       "209  Front-end Developer ( React.js, Vue.js, Next.j...   \n",
       "210  Front-end Developer ( React.js, Vue.js, Next.j...   \n",
       "211                                 UI/UX Web Designer   \n",
       "212  Back-end Developer (  Node.JS , REST API ,Fire...   \n",
       "213  Back-end Developer (  Node.JS , REST API ,Fire...   \n",
       "\n",
       "                             Tell as about your self ?  \\\n",
       "209  I'm Yash patel perusing b.sc computer  science...   \n",
       "210  I am a Second-Year undergraduate student at II...   \n",
       "211  I am Garima Singh. I consider myself as a smar...   \n",
       "212     I'm a Web developer and datascience enthusiast   \n",
       "213     I'm an undergraduate of University of Moratuwa   \n",
       "\n",
       "                               College Name        Submitted At  \\\n",
       "209  Thakur college  of commerce and science   8/2/2020 8:43:12   \n",
       "210                               IIT Kanpur   8/2/2020 9:05:30   \n",
       "211                                NIT Patna  8/3/2020 22:42:59   \n",
       "212                         Parul University   8/4/2020 9:08:00   \n",
       "213                   University of Moratuwa  8/4/2020 13:43:59   \n",
       "\n",
       "                                Token  \n",
       "209  njtro0t1itswrzns8mg9cclpnjtro0t1  \n",
       "210  5rb4g2nqaicr19a25rb4g2nour89tknl  \n",
       "211  zrmcpkwedh4m78kxg63zrmwc50dkjddr  \n",
       "212  4qyn3qvik0n62vmsyz4qyn3qvex8arbn  \n",
       "213  a03wsxbp8vi8yx2cdqa03wsi8vhy66ca  "
      ]
     },
     "execution_count": 17,
     "metadata": {},
     "output_type": "execute_result"
    }
   ],
   "source": [
    "oscp.tail()"
   ]
  },
  {
   "cell_type": "code",
   "execution_count": 18,
   "metadata": {},
   "outputs": [
    {
     "data": {
      "text/plain": [
       "(214, 10)"
      ]
     },
     "execution_count": 18,
     "metadata": {},
     "output_type": "execute_result"
    }
   ],
   "source": [
    "oscp.shape"
   ]
  },
  {
   "cell_type": "code",
   "execution_count": 19,
   "metadata": {},
   "outputs": [
    {
     "data": {
      "text/html": [
       "<div>\n",
       "<style scoped>\n",
       "    .dataframe tbody tr th:only-of-type {\n",
       "        vertical-align: middle;\n",
       "    }\n",
       "\n",
       "    .dataframe tbody tr th {\n",
       "        vertical-align: top;\n",
       "    }\n",
       "\n",
       "    .dataframe thead th {\n",
       "        text-align: right;\n",
       "    }\n",
       "</style>\n",
       "<table border=\"1\" class=\"dataframe\">\n",
       "  <thead>\n",
       "    <tr style=\"text-align: right;\">\n",
       "      <th></th>\n",
       "      <th>Mobile no</th>\n",
       "    </tr>\n",
       "  </thead>\n",
       "  <tbody>\n",
       "    <tr>\n",
       "      <th>count</th>\n",
       "      <td>2.140000e+02</td>\n",
       "    </tr>\n",
       "    <tr>\n",
       "      <th>mean</th>\n",
       "      <td>1.179486e+12</td>\n",
       "    </tr>\n",
       "    <tr>\n",
       "      <th>std</th>\n",
       "      <td>1.444811e+12</td>\n",
       "    </tr>\n",
       "    <tr>\n",
       "      <th>min</th>\n",
       "      <td>6.582573e+09</td>\n",
       "    </tr>\n",
       "    <tr>\n",
       "      <th>25%</th>\n",
       "      <td>9.179832e+11</td>\n",
       "    </tr>\n",
       "    <tr>\n",
       "      <th>50%</th>\n",
       "      <td>9.187845e+11</td>\n",
       "    </tr>\n",
       "    <tr>\n",
       "      <th>75%</th>\n",
       "      <td>9.196141e+11</td>\n",
       "    </tr>\n",
       "    <tr>\n",
       "      <th>max</th>\n",
       "      <td>9.779814e+12</td>\n",
       "    </tr>\n",
       "  </tbody>\n",
       "</table>\n",
       "</div>"
      ],
      "text/plain": [
       "          Mobile no\n",
       "count  2.140000e+02\n",
       "mean   1.179486e+12\n",
       "std    1.444811e+12\n",
       "min    6.582573e+09\n",
       "25%    9.179832e+11\n",
       "50%    9.187845e+11\n",
       "75%    9.196141e+11\n",
       "max    9.779814e+12"
      ]
     },
     "execution_count": 19,
     "metadata": {},
     "output_type": "execute_result"
    }
   ],
   "source": [
    "oscp.describe()"
   ]
  },
  {
   "cell_type": "code",
   "execution_count": 22,
   "metadata": {},
   "outputs": [
    {
     "data": {
      "text/html": [
       "<div>\n",
       "<style scoped>\n",
       "    .dataframe tbody tr th:only-of-type {\n",
       "        vertical-align: middle;\n",
       "    }\n",
       "\n",
       "    .dataframe tbody tr th {\n",
       "        vertical-align: top;\n",
       "    }\n",
       "\n",
       "    .dataframe thead th {\n",
       "        text-align: right;\n",
       "    }\n",
       "</style>\n",
       "<table border=\"1\" class=\"dataframe\">\n",
       "  <thead>\n",
       "    <tr style=\"text-align: right;\">\n",
       "      <th></th>\n",
       "      <th>Name</th>\n",
       "      <th>Email</th>\n",
       "      <th>Mobile no</th>\n",
       "      <th>LinkedIn URL</th>\n",
       "      <th>Github URL</th>\n",
       "    </tr>\n",
       "  </thead>\n",
       "  <tbody>\n",
       "    <tr>\n",
       "      <th>0</th>\n",
       "      <td>Praveen Kumar Purushothaman</td>\n",
       "      <td>praveenscience@gmail.com</td>\n",
       "      <td>447405708485</td>\n",
       "      <td>https://www.linkedin.com/in/praveentech/</td>\n",
       "      <td>https://github.com/praveenscience</td>\n",
       "    </tr>\n",
       "    <tr>\n",
       "      <th>1</th>\n",
       "      <td>Mrunal Kakirwar</td>\n",
       "      <td>mrunal.kakirwar@cumminscollege.edu.in</td>\n",
       "      <td>919637996865</td>\n",
       "      <td>https://www.linkedin.com/in/mrunal-kakirwar-24...</td>\n",
       "      <td>https://Mrunal.Kakirwar</td>\n",
       "    </tr>\n",
       "    <tr>\n",
       "      <th>2</th>\n",
       "      <td>Abhinavan Roy</td>\n",
       "      <td>abhinavan2772@gmail.com</td>\n",
       "      <td>919511840787</td>\n",
       "      <td>https://www.linkedin.com/in/abhinavan-roy</td>\n",
       "      <td>https://github.com/abhinavanRoy</td>\n",
       "    </tr>\n",
       "    <tr>\n",
       "      <th>3</th>\n",
       "      <td>Pawan Singhla</td>\n",
       "      <td>pawansinghla300@gmail.com</td>\n",
       "      <td>917895848767</td>\n",
       "      <td>https://www.linkedin.com/in/pawansinghla300/</td>\n",
       "      <td>https://github.com/Pawansinghla</td>\n",
       "    </tr>\n",
       "    <tr>\n",
       "      <th>4</th>\n",
       "      <td>Katakam Nikhilesh</td>\n",
       "      <td>nikhileshkatakam1@gmail.com</td>\n",
       "      <td>918688163335</td>\n",
       "      <td>https://www.linkedin.com/in/nikhilesh-katakam-...</td>\n",
       "      <td>https://github.com/NikhileshKatakam</td>\n",
       "    </tr>\n",
       "    <tr>\n",
       "      <th>5</th>\n",
       "      <td>Jasbir</td>\n",
       "      <td>shikhawat.jasbir@gmail.com</td>\n",
       "      <td>918375836278</td>\n",
       "      <td>https://www.linkedin.com/in/jasbir-shikhawat</td>\n",
       "      <td>https://github.com/JasbirCodeSpace</td>\n",
       "    </tr>\n",
       "    <tr>\n",
       "      <th>6</th>\n",
       "      <td>Anush Bhatia</td>\n",
       "      <td>anushbhatia1234@gmail.com</td>\n",
       "      <td>917405815507</td>\n",
       "      <td>https://www.linkedin.com/in/anush-bhatia-aa500...</td>\n",
       "      <td>https://github.com/anushbhatia</td>\n",
       "    </tr>\n",
       "    <tr>\n",
       "      <th>7</th>\n",
       "      <td>Garima Singh</td>\n",
       "      <td>garingh128@gmail.com</td>\n",
       "      <td>918218152661</td>\n",
       "      <td>https://www.linkedin.com/in/garima-singh-34042...</td>\n",
       "      <td>https://github.com/garimasingh128</td>\n",
       "    </tr>\n",
       "  </tbody>\n",
       "</table>\n",
       "</div>"
      ],
      "text/plain": [
       "                         Name                                   Email  \\\n",
       "0  Praveen Kumar Purushothaman               praveenscience@gmail.com   \n",
       "1              Mrunal Kakirwar  mrunal.kakirwar@cumminscollege.edu.in   \n",
       "2                Abhinavan Roy                abhinavan2772@gmail.com   \n",
       "3                Pawan Singhla              pawansinghla300@gmail.com   \n",
       "4            Katakam Nikhilesh            nikhileshkatakam1@gmail.com   \n",
       "5                       Jasbir             shikhawat.jasbir@gmail.com   \n",
       "6                 Anush Bhatia              anushbhatia1234@gmail.com   \n",
       "7                 Garima Singh                   garingh128@gmail.com   \n",
       "\n",
       "      Mobile no                                       LinkedIn URL  \\\n",
       "0  447405708485           https://www.linkedin.com/in/praveentech/   \n",
       "1  919637996865  https://www.linkedin.com/in/mrunal-kakirwar-24...   \n",
       "2  919511840787          https://www.linkedin.com/in/abhinavan-roy   \n",
       "3  917895848767       https://www.linkedin.com/in/pawansinghla300/   \n",
       "4  918688163335  https://www.linkedin.com/in/nikhilesh-katakam-...   \n",
       "5  918375836278       https://www.linkedin.com/in/jasbir-shikhawat   \n",
       "6  917405815507  https://www.linkedin.com/in/anush-bhatia-aa500...   \n",
       "7  918218152661  https://www.linkedin.com/in/garima-singh-34042...   \n",
       "\n",
       "                            Github URL  \n",
       "0    https://github.com/praveenscience  \n",
       "1              https://Mrunal.Kakirwar  \n",
       "2      https://github.com/abhinavanRoy  \n",
       "3      https://github.com/Pawansinghla  \n",
       "4  https://github.com/NikhileshKatakam  \n",
       "5   https://github.com/JasbirCodeSpace  \n",
       "6       https://github.com/anushbhatia  \n",
       "7    https://github.com/garimasingh128  "
      ]
     },
     "execution_count": 22,
     "metadata": {},
     "output_type": "execute_result"
    }
   ],
   "source": [
    "oscp.iloc[0:8,0:5]"
   ]
  },
  {
   "cell_type": "code",
   "execution_count": 25,
   "metadata": {},
   "outputs": [
    {
     "data": {
      "text/html": [
       "<div>\n",
       "<style scoped>\n",
       "    .dataframe tbody tr th:only-of-type {\n",
       "        vertical-align: middle;\n",
       "    }\n",
       "\n",
       "    .dataframe tbody tr th {\n",
       "        vertical-align: top;\n",
       "    }\n",
       "\n",
       "    .dataframe thead th {\n",
       "        text-align: right;\n",
       "    }\n",
       "</style>\n",
       "<table border=\"1\" class=\"dataframe\">\n",
       "  <thead>\n",
       "    <tr style=\"text-align: right;\">\n",
       "      <th></th>\n",
       "      <th>Email</th>\n",
       "      <th>Mobile no</th>\n",
       "    </tr>\n",
       "  </thead>\n",
       "  <tbody>\n",
       "    <tr>\n",
       "      <th>1</th>\n",
       "      <td>mrunal.kakirwar@cumminscollege.edu.in</td>\n",
       "      <td>919637996865</td>\n",
       "    </tr>\n",
       "    <tr>\n",
       "      <th>2</th>\n",
       "      <td>abhinavan2772@gmail.com</td>\n",
       "      <td>919511840787</td>\n",
       "    </tr>\n",
       "    <tr>\n",
       "      <th>3</th>\n",
       "      <td>pawansinghla300@gmail.com</td>\n",
       "      <td>917895848767</td>\n",
       "    </tr>\n",
       "    <tr>\n",
       "      <th>4</th>\n",
       "      <td>nikhileshkatakam1@gmail.com</td>\n",
       "      <td>918688163335</td>\n",
       "    </tr>\n",
       "    <tr>\n",
       "      <th>5</th>\n",
       "      <td>shikhawat.jasbir@gmail.com</td>\n",
       "      <td>918375836278</td>\n",
       "    </tr>\n",
       "  </tbody>\n",
       "</table>\n",
       "</div>"
      ],
      "text/plain": [
       "                                   Email     Mobile no\n",
       "1  mrunal.kakirwar@cumminscollege.edu.in  919637996865\n",
       "2                abhinavan2772@gmail.com  919511840787\n",
       "3              pawansinghla300@gmail.com  917895848767\n",
       "4            nikhileshkatakam1@gmail.com  918688163335\n",
       "5             shikhawat.jasbir@gmail.com  918375836278"
      ]
     },
     "execution_count": 25,
     "metadata": {},
     "output_type": "execute_result"
    }
   ],
   "source": [
    "oscp.loc[1:5,('Email','Mobile no')]"
   ]
  },
  {
   "cell_type": "code",
   "execution_count": 26,
   "metadata": {},
   "outputs": [
    {
     "data": {
      "text/html": [
       "<div>\n",
       "<style scoped>\n",
       "    .dataframe tbody tr th:only-of-type {\n",
       "        vertical-align: middle;\n",
       "    }\n",
       "\n",
       "    .dataframe tbody tr th {\n",
       "        vertical-align: top;\n",
       "    }\n",
       "\n",
       "    .dataframe thead th {\n",
       "        text-align: right;\n",
       "    }\n",
       "</style>\n",
       "<table border=\"1\" class=\"dataframe\">\n",
       "  <thead>\n",
       "    <tr style=\"text-align: right;\">\n",
       "      <th></th>\n",
       "      <th>Name</th>\n",
       "      <th>Email</th>\n",
       "      <th>Mobile no</th>\n",
       "      <th>LinkedIn URL</th>\n",
       "      <th>Github URL</th>\n",
       "      <th>Choose category</th>\n",
       "      <th>Tell as about your self ?</th>\n",
       "      <th>College Name</th>\n",
       "      <th>Submitted At</th>\n",
       "      <th>Token</th>\n",
       "    </tr>\n",
       "  </thead>\n",
       "  <tbody>\n",
       "    <tr>\n",
       "      <th>0</th>\n",
       "      <td>Praveen Kumar Purushothaman</td>\n",
       "      <td>praveenscience@gmail.com</td>\n",
       "      <td>447405708485</td>\n",
       "      <td>https://www.linkedin.com/in/praveentech/</td>\n",
       "      <td>https://github.com/praveenscience</td>\n",
       "      <td>Front-end Developer ( React.JS Knowleage)</td>\n",
       "      <td>Mentor (Careers, Personal, Full Stack Web Deve...</td>\n",
       "      <td>NaN</td>\n",
       "      <td>5/4/2020 13:32:41</td>\n",
       "      <td>dbml2zwkkiarnnqakt2nudbml2zr3mz2</td>\n",
       "    </tr>\n",
       "    <tr>\n",
       "      <th>1</th>\n",
       "      <td>Mrunal Kakirwar</td>\n",
       "      <td>mrunal.kakirwar@cumminscollege.edu.in</td>\n",
       "      <td>919637996865</td>\n",
       "      <td>https://www.linkedin.com/in/mrunal-kakirwar-24...</td>\n",
       "      <td>https://Mrunal.Kakirwar</td>\n",
       "      <td>Back-end Developer (  Node.JS , REST API ,Fire...</td>\n",
       "      <td>I am final year computer Engineering student</td>\n",
       "      <td>Cummins college of engineering for women</td>\n",
       "      <td>5/4/2020 13:38:49</td>\n",
       "      <td>y4438ees7r0u4bhy4n9pp8yf3qc328tn</td>\n",
       "    </tr>\n",
       "    <tr>\n",
       "      <th>2</th>\n",
       "      <td>Abhinavan Roy</td>\n",
       "      <td>abhinavan2772@gmail.com</td>\n",
       "      <td>919511840787</td>\n",
       "      <td>https://www.linkedin.com/in/abhinavan-roy</td>\n",
       "      <td>https://github.com/abhinavanRoy</td>\n",
       "      <td>Back-end Developer (  Node.JS , REST API ,Fire...</td>\n",
       "      <td>I am a tech enthusiast who loves to code and m...</td>\n",
       "      <td>SRM Institute of Science and Technology, Ramap...</td>\n",
       "      <td>5/4/2020 13:40:26</td>\n",
       "      <td>p3f231bn6yq98b8p3f2hr2id8kkem627</td>\n",
       "    </tr>\n",
       "    <tr>\n",
       "      <th>3</th>\n",
       "      <td>Pawan Singhla</td>\n",
       "      <td>pawansinghla300@gmail.com</td>\n",
       "      <td>917895848767</td>\n",
       "      <td>https://www.linkedin.com/in/pawansinghla300/</td>\n",
       "      <td>https://github.com/Pawansinghla</td>\n",
       "      <td>Front-end Developer ( React.JS Knowleage)</td>\n",
       "      <td>I am 3rd year Btech student at UIET Kurukshetra.</td>\n",
       "      <td>University Institute of Engineering &amp; Technolo...</td>\n",
       "      <td>5/4/2020 13:40:27</td>\n",
       "      <td>fm3nre9rr0f2upix6sy5ifm3nhjwx0xm</td>\n",
       "    </tr>\n",
       "    <tr>\n",
       "      <th>4</th>\n",
       "      <td>Katakam Nikhilesh</td>\n",
       "      <td>nikhileshkatakam1@gmail.com</td>\n",
       "      <td>918688163335</td>\n",
       "      <td>https://www.linkedin.com/in/nikhilesh-katakam-...</td>\n",
       "      <td>https://github.com/NikhileshKatakam</td>\n",
       "      <td>Back-end Developer (  Node.JS , REST API ,Fire...</td>\n",
       "      <td>I was pursuing cse 3rd year I love to learn an...</td>\n",
       "      <td>R.V.R &amp; J.C college of Engineering</td>\n",
       "      <td>5/4/2020 13:36:49</td>\n",
       "      <td>ka86br2y1lv056ka86bfik1pb649gk71</td>\n",
       "    </tr>\n",
       "  </tbody>\n",
       "</table>\n",
       "</div>"
      ],
      "text/plain": [
       "                         Name                                   Email  \\\n",
       "0  Praveen Kumar Purushothaman               praveenscience@gmail.com   \n",
       "1              Mrunal Kakirwar  mrunal.kakirwar@cumminscollege.edu.in   \n",
       "2                Abhinavan Roy                abhinavan2772@gmail.com   \n",
       "3                Pawan Singhla              pawansinghla300@gmail.com   \n",
       "4            Katakam Nikhilesh            nikhileshkatakam1@gmail.com   \n",
       "\n",
       "      Mobile no                                       LinkedIn URL  \\\n",
       "0  447405708485           https://www.linkedin.com/in/praveentech/   \n",
       "1  919637996865  https://www.linkedin.com/in/mrunal-kakirwar-24...   \n",
       "2  919511840787          https://www.linkedin.com/in/abhinavan-roy   \n",
       "3  917895848767       https://www.linkedin.com/in/pawansinghla300/   \n",
       "4  918688163335  https://www.linkedin.com/in/nikhilesh-katakam-...   \n",
       "\n",
       "                            Github URL  \\\n",
       "0    https://github.com/praveenscience   \n",
       "1              https://Mrunal.Kakirwar   \n",
       "2      https://github.com/abhinavanRoy   \n",
       "3      https://github.com/Pawansinghla   \n",
       "4  https://github.com/NikhileshKatakam   \n",
       "\n",
       "                                     Choose category  \\\n",
       "0          Front-end Developer ( React.JS Knowleage)   \n",
       "1  Back-end Developer (  Node.JS , REST API ,Fire...   \n",
       "2  Back-end Developer (  Node.JS , REST API ,Fire...   \n",
       "3          Front-end Developer ( React.JS Knowleage)   \n",
       "4  Back-end Developer (  Node.JS , REST API ,Fire...   \n",
       "\n",
       "                           Tell as about your self ?  \\\n",
       "0  Mentor (Careers, Personal, Full Stack Web Deve...   \n",
       "1       I am final year computer Engineering student   \n",
       "2  I am a tech enthusiast who loves to code and m...   \n",
       "3   I am 3rd year Btech student at UIET Kurukshetra.   \n",
       "4  I was pursuing cse 3rd year I love to learn an...   \n",
       "\n",
       "                                       College Name        Submitted At  \\\n",
       "0                                                NaN  5/4/2020 13:32:41   \n",
       "1           Cummins college of engineering for women  5/4/2020 13:38:49   \n",
       "2  SRM Institute of Science and Technology, Ramap...  5/4/2020 13:40:26   \n",
       "3  University Institute of Engineering & Technolo...  5/4/2020 13:40:27   \n",
       "4                 R.V.R & J.C college of Engineering  5/4/2020 13:36:49   \n",
       "\n",
       "                              Token  \n",
       "0  dbml2zwkkiarnnqakt2nudbml2zr3mz2  \n",
       "1  y4438ees7r0u4bhy4n9pp8yf3qc328tn  \n",
       "2  p3f231bn6yq98b8p3f2hr2id8kkem627  \n",
       "3  fm3nre9rr0f2upix6sy5ifm3nhjwx0xm  \n",
       "4  ka86br2y1lv056ka86bfik1pb649gk71  "
      ]
     },
     "execution_count": 26,
     "metadata": {},
     "output_type": "execute_result"
    }
   ],
   "source": [
    "oscp.head()"
   ]
  },
  {
   "cell_type": "code",
   "execution_count": 27,
   "metadata": {},
   "outputs": [
    {
     "data": {
      "text/html": [
       "<div>\n",
       "<style scoped>\n",
       "    .dataframe tbody tr th:only-of-type {\n",
       "        vertical-align: middle;\n",
       "    }\n",
       "\n",
       "    .dataframe tbody tr th {\n",
       "        vertical-align: top;\n",
       "    }\n",
       "\n",
       "    .dataframe thead th {\n",
       "        text-align: right;\n",
       "    }\n",
       "</style>\n",
       "<table border=\"1\" class=\"dataframe\">\n",
       "  <thead>\n",
       "    <tr style=\"text-align: right;\">\n",
       "      <th></th>\n",
       "      <th>Name</th>\n",
       "      <th>Email</th>\n",
       "      <th>Mobile no</th>\n",
       "      <th>LinkedIn URL</th>\n",
       "      <th>Github URL</th>\n",
       "      <th>Choose category</th>\n",
       "      <th>Tell as about your self ?</th>\n",
       "      <th>College Name</th>\n",
       "      <th>Submitted At</th>\n",
       "    </tr>\n",
       "  </thead>\n",
       "  <tbody>\n",
       "    <tr>\n",
       "      <th>0</th>\n",
       "      <td>Praveen Kumar Purushothaman</td>\n",
       "      <td>praveenscience@gmail.com</td>\n",
       "      <td>447405708485</td>\n",
       "      <td>https://www.linkedin.com/in/praveentech/</td>\n",
       "      <td>https://github.com/praveenscience</td>\n",
       "      <td>Front-end Developer ( React.JS Knowleage)</td>\n",
       "      <td>Mentor (Careers, Personal, Full Stack Web Deve...</td>\n",
       "      <td>NaN</td>\n",
       "      <td>5/4/2020 13:32:41</td>\n",
       "    </tr>\n",
       "    <tr>\n",
       "      <th>1</th>\n",
       "      <td>Mrunal Kakirwar</td>\n",
       "      <td>mrunal.kakirwar@cumminscollege.edu.in</td>\n",
       "      <td>919637996865</td>\n",
       "      <td>https://www.linkedin.com/in/mrunal-kakirwar-24...</td>\n",
       "      <td>https://Mrunal.Kakirwar</td>\n",
       "      <td>Back-end Developer (  Node.JS , REST API ,Fire...</td>\n",
       "      <td>I am final year computer Engineering student</td>\n",
       "      <td>Cummins college of engineering for women</td>\n",
       "      <td>5/4/2020 13:38:49</td>\n",
       "    </tr>\n",
       "    <tr>\n",
       "      <th>2</th>\n",
       "      <td>Abhinavan Roy</td>\n",
       "      <td>abhinavan2772@gmail.com</td>\n",
       "      <td>919511840787</td>\n",
       "      <td>https://www.linkedin.com/in/abhinavan-roy</td>\n",
       "      <td>https://github.com/abhinavanRoy</td>\n",
       "      <td>Back-end Developer (  Node.JS , REST API ,Fire...</td>\n",
       "      <td>I am a tech enthusiast who loves to code and m...</td>\n",
       "      <td>SRM Institute of Science and Technology, Ramap...</td>\n",
       "      <td>5/4/2020 13:40:26</td>\n",
       "    </tr>\n",
       "    <tr>\n",
       "      <th>3</th>\n",
       "      <td>Pawan Singhla</td>\n",
       "      <td>pawansinghla300@gmail.com</td>\n",
       "      <td>917895848767</td>\n",
       "      <td>https://www.linkedin.com/in/pawansinghla300/</td>\n",
       "      <td>https://github.com/Pawansinghla</td>\n",
       "      <td>Front-end Developer ( React.JS Knowleage)</td>\n",
       "      <td>I am 3rd year Btech student at UIET Kurukshetra.</td>\n",
       "      <td>University Institute of Engineering &amp; Technolo...</td>\n",
       "      <td>5/4/2020 13:40:27</td>\n",
       "    </tr>\n",
       "    <tr>\n",
       "      <th>4</th>\n",
       "      <td>Katakam Nikhilesh</td>\n",
       "      <td>nikhileshkatakam1@gmail.com</td>\n",
       "      <td>918688163335</td>\n",
       "      <td>https://www.linkedin.com/in/nikhilesh-katakam-...</td>\n",
       "      <td>https://github.com/NikhileshKatakam</td>\n",
       "      <td>Back-end Developer (  Node.JS , REST API ,Fire...</td>\n",
       "      <td>I was pursuing cse 3rd year I love to learn an...</td>\n",
       "      <td>R.V.R &amp; J.C college of Engineering</td>\n",
       "      <td>5/4/2020 13:36:49</td>\n",
       "    </tr>\n",
       "    <tr>\n",
       "      <th>...</th>\n",
       "      <td>...</td>\n",
       "      <td>...</td>\n",
       "      <td>...</td>\n",
       "      <td>...</td>\n",
       "      <td>...</td>\n",
       "      <td>...</td>\n",
       "      <td>...</td>\n",
       "      <td>...</td>\n",
       "      <td>...</td>\n",
       "    </tr>\n",
       "    <tr>\n",
       "      <th>209</th>\n",
       "      <td>Yash patel</td>\n",
       "      <td>yashp2928@gmail.com</td>\n",
       "      <td>919768960189</td>\n",
       "      <td>https://www.linkedin.com/in/yash-patel-22546a191</td>\n",
       "      <td>https://github.com/ryuk156</td>\n",
       "      <td>Front-end Developer ( React.js, Vue.js, Next.j...</td>\n",
       "      <td>I'm Yash patel perusing b.sc computer  science...</td>\n",
       "      <td>Thakur college  of commerce and science</td>\n",
       "      <td>8/2/2020 8:43:12</td>\n",
       "    </tr>\n",
       "    <tr>\n",
       "      <th>210</th>\n",
       "      <td>Sparsh Sihotiya</td>\n",
       "      <td>sparshsihotiya@gmail.com</td>\n",
       "      <td>918529434655</td>\n",
       "      <td>https://www.linkedin.com/in/sparshs413</td>\n",
       "      <td>https://github.com/sparshs413</td>\n",
       "      <td>Front-end Developer ( React.js, Vue.js, Next.j...</td>\n",
       "      <td>I am a Second-Year undergraduate student at II...</td>\n",
       "      <td>IIT Kanpur</td>\n",
       "      <td>8/2/2020 9:05:30</td>\n",
       "    </tr>\n",
       "    <tr>\n",
       "      <th>211</th>\n",
       "      <td>Garima Singh</td>\n",
       "      <td>garingh128@gmail.com</td>\n",
       "      <td>918218152661</td>\n",
       "      <td>https://www.linkedin.com/in/garima-singh-34042...</td>\n",
       "      <td>https://github.com/garimasingh128</td>\n",
       "      <td>UI/UX Web Designer</td>\n",
       "      <td>I am Garima Singh. I consider myself as a smar...</td>\n",
       "      <td>NIT Patna</td>\n",
       "      <td>8/3/2020 22:42:59</td>\n",
       "    </tr>\n",
       "    <tr>\n",
       "      <th>212</th>\n",
       "      <td>Chand Bud</td>\n",
       "      <td>chandbud5@gmail.com</td>\n",
       "      <td>918758079341</td>\n",
       "      <td>https://www.linkedin.com/in/chandbud5</td>\n",
       "      <td>https://github.com/chandbud5</td>\n",
       "      <td>Back-end Developer (  Node.JS , REST API ,Fire...</td>\n",
       "      <td>I'm a Web developer and datascience enthusiast</td>\n",
       "      <td>Parul University</td>\n",
       "      <td>8/4/2020 9:08:00</td>\n",
       "    </tr>\n",
       "    <tr>\n",
       "      <th>213</th>\n",
       "      <td>Salha Salman</td>\n",
       "      <td>salhasalman4@gmail.com</td>\n",
       "      <td>94778149339</td>\n",
       "      <td>https://www.linkedin.com/mwlite/in/salha-salma...</td>\n",
       "      <td>https://github.com/salhasalman</td>\n",
       "      <td>Back-end Developer (  Node.JS , REST API ,Fire...</td>\n",
       "      <td>I'm an undergraduate of University of Moratuwa</td>\n",
       "      <td>University of Moratuwa</td>\n",
       "      <td>8/4/2020 13:43:59</td>\n",
       "    </tr>\n",
       "  </tbody>\n",
       "</table>\n",
       "<p>214 rows × 9 columns</p>\n",
       "</div>"
      ],
      "text/plain": [
       "                           Name                                   Email  \\\n",
       "0    Praveen Kumar Purushothaman               praveenscience@gmail.com   \n",
       "1                Mrunal Kakirwar  mrunal.kakirwar@cumminscollege.edu.in   \n",
       "2                  Abhinavan Roy                abhinavan2772@gmail.com   \n",
       "3                  Pawan Singhla              pawansinghla300@gmail.com   \n",
       "4              Katakam Nikhilesh            nikhileshkatakam1@gmail.com   \n",
       "..                           ...                                    ...   \n",
       "209                   Yash patel                    yashp2928@gmail.com   \n",
       "210              Sparsh Sihotiya               sparshsihotiya@gmail.com   \n",
       "211                 Garima Singh                   garingh128@gmail.com   \n",
       "212                    Chand Bud                    chandbud5@gmail.com   \n",
       "213                 Salha Salman                 salhasalman4@gmail.com   \n",
       "\n",
       "        Mobile no                                       LinkedIn URL  \\\n",
       "0    447405708485           https://www.linkedin.com/in/praveentech/   \n",
       "1    919637996865  https://www.linkedin.com/in/mrunal-kakirwar-24...   \n",
       "2    919511840787          https://www.linkedin.com/in/abhinavan-roy   \n",
       "3    917895848767       https://www.linkedin.com/in/pawansinghla300/   \n",
       "4    918688163335  https://www.linkedin.com/in/nikhilesh-katakam-...   \n",
       "..            ...                                                ...   \n",
       "209  919768960189   https://www.linkedin.com/in/yash-patel-22546a191   \n",
       "210  918529434655             https://www.linkedin.com/in/sparshs413   \n",
       "211  918218152661  https://www.linkedin.com/in/garima-singh-34042...   \n",
       "212  918758079341              https://www.linkedin.com/in/chandbud5   \n",
       "213   94778149339  https://www.linkedin.com/mwlite/in/salha-salma...   \n",
       "\n",
       "                              Github URL  \\\n",
       "0      https://github.com/praveenscience   \n",
       "1                https://Mrunal.Kakirwar   \n",
       "2        https://github.com/abhinavanRoy   \n",
       "3        https://github.com/Pawansinghla   \n",
       "4    https://github.com/NikhileshKatakam   \n",
       "..                                   ...   \n",
       "209           https://github.com/ryuk156   \n",
       "210        https://github.com/sparshs413   \n",
       "211    https://github.com/garimasingh128   \n",
       "212         https://github.com/chandbud5   \n",
       "213       https://github.com/salhasalman   \n",
       "\n",
       "                                       Choose category  \\\n",
       "0            Front-end Developer ( React.JS Knowleage)   \n",
       "1    Back-end Developer (  Node.JS , REST API ,Fire...   \n",
       "2    Back-end Developer (  Node.JS , REST API ,Fire...   \n",
       "3            Front-end Developer ( React.JS Knowleage)   \n",
       "4    Back-end Developer (  Node.JS , REST API ,Fire...   \n",
       "..                                                 ...   \n",
       "209  Front-end Developer ( React.js, Vue.js, Next.j...   \n",
       "210  Front-end Developer ( React.js, Vue.js, Next.j...   \n",
       "211                                 UI/UX Web Designer   \n",
       "212  Back-end Developer (  Node.JS , REST API ,Fire...   \n",
       "213  Back-end Developer (  Node.JS , REST API ,Fire...   \n",
       "\n",
       "                             Tell as about your self ?  \\\n",
       "0    Mentor (Careers, Personal, Full Stack Web Deve...   \n",
       "1         I am final year computer Engineering student   \n",
       "2    I am a tech enthusiast who loves to code and m...   \n",
       "3     I am 3rd year Btech student at UIET Kurukshetra.   \n",
       "4    I was pursuing cse 3rd year I love to learn an...   \n",
       "..                                                 ...   \n",
       "209  I'm Yash patel perusing b.sc computer  science...   \n",
       "210  I am a Second-Year undergraduate student at II...   \n",
       "211  I am Garima Singh. I consider myself as a smar...   \n",
       "212     I'm a Web developer and datascience enthusiast   \n",
       "213     I'm an undergraduate of University of Moratuwa   \n",
       "\n",
       "                                         College Name        Submitted At  \n",
       "0                                                  NaN  5/4/2020 13:32:41  \n",
       "1             Cummins college of engineering for women  5/4/2020 13:38:49  \n",
       "2    SRM Institute of Science and Technology, Ramap...  5/4/2020 13:40:26  \n",
       "3    University Institute of Engineering & Technolo...  5/4/2020 13:40:27  \n",
       "4                   R.V.R & J.C college of Engineering  5/4/2020 13:36:49  \n",
       "..                                                 ...                ...  \n",
       "209            Thakur college  of commerce and science   8/2/2020 8:43:12  \n",
       "210                                         IIT Kanpur   8/2/2020 9:05:30  \n",
       "211                                          NIT Patna  8/3/2020 22:42:59  \n",
       "212                                   Parul University   8/4/2020 9:08:00  \n",
       "213                             University of Moratuwa  8/4/2020 13:43:59  \n",
       "\n",
       "[214 rows x 9 columns]"
      ]
     },
     "execution_count": 27,
     "metadata": {},
     "output_type": "execute_result"
    }
   ],
   "source": [
    "oscp.drop('Token',axis=1)"
   ]
  },
  {
   "cell_type": "code",
   "execution_count": null,
   "metadata": {},
   "outputs": [],
   "source": [
    "oscp.drop[()]"
   ]
  }
 ],
 "metadata": {
  "kernelspec": {
   "display_name": "Python 3",
   "language": "python",
   "name": "python3"
  },
  "language_info": {
   "codemirror_mode": {
    "name": "ipython",
    "version": 3
   },
   "file_extension": ".py",
   "mimetype": "text/x-python",
   "name": "python",
   "nbconvert_exporter": "python",
   "pygments_lexer": "ipython3",
   "version": "3.7.6"
  }
 },
 "nbformat": 4,
 "nbformat_minor": 4
}
